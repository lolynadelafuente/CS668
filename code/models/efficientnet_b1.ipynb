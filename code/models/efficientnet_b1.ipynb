{
 "cells": [
  {
   "cell_type": "markdown",
   "metadata": {},
   "source": [
    "# Efficient Net B1"
   ]
  },
  {
   "cell_type": "markdown",
   "metadata": {},
   "source": [
    "This work was realized as part of the capstone project of the MS in Data Science at Pace University by Lolyna de la Fuente Ordaz"
   ]
  },
  {
   "cell_type": "markdown",
   "metadata": {},
   "source": [
    "### Data Loading and Inspection"
   ]
  },
  {
   "cell_type": "code",
   "execution_count": 1,
   "metadata": {},
   "outputs": [
    {
     "name": "stderr",
     "output_type": "stream",
     "text": [
      "c:\\Users\\lolyn\\anaconda3\\lib\\site-packages\\torchvision\\io\\image.py:13: UserWarning: Failed to load image Python extension: '[WinError 127] No se encontró el proceso especificado'If you don't plan on using image functionality from `torchvision.io`, you can ignore this warning. Otherwise, there might be something wrong with your environment. Did you have `libjpeg` or `libpng` installed before building `torchvision` from source?\n",
      "  warn(\n"
     ]
    }
   ],
   "source": [
    "# Libraries and Dependencies\n",
    "\n",
    "# Data Manipulation & Analysis\n",
    "import pandas as pd\n",
    "import numpy as np\n",
    "from pathlib import Path\n",
    "\n",
    "# Visualization\n",
    "import matplotlib.pyplot as plt\n",
    "import seaborn as sns\n",
    "from IPython.display import Image\n",
    "from PIL import Image as pil_image\n",
    "\n",
    "\n",
    "# Machine Learning & Deep Learning\n",
    "import torch\n",
    "from torch.utils.data import Dataset\n",
    "from torchvision import transforms\n",
    "from torch import nn\n",
    "import pytorch_lightning as pl\n",
    "from torchsummary import summary\n",
    "import torchvision.models as models\n",
    "from torch.utils.data import DataLoader\n",
    "from efficientnet_pytorch import EfficientNet\n",
    "\n",
    "# Metrics & Evaluation\n",
    "from sklearn.metrics import mean_squared_error\n",
    "\n",
    "# Progress Monitoring\n",
    "from tqdm import tqdm\n",
    "\n",
    "# Warning & Error Handling\n",
    "import warnings\n",
    "warnings.filterwarnings(\"ignore\")\n",
    "\n",
    "# Model Checkpoints & Logging\n",
    "from pytorch_lightning import loggers"
   ]
  },
  {
   "cell_type": "markdown",
   "metadata": {},
   "source": [
    "### Loading the training dataset into a Pandas Data Frame"
   ]
  },
  {
   "cell_type": "markdown",
   "metadata": {},
   "source": [
    "All datasets were downloaded using the accessdata.py"
   ]
  },
  {
   "cell_type": "code",
   "execution_count": 2,
   "metadata": {},
   "outputs": [],
   "source": [
    "# Reading our databases\n",
    "train_metadata = pd.read_csv(r\"data\\training_set_features.csv\")\n",
    "train_labels = pd.read_csv(r\"data\\training_set_labels.csv\")"
   ]
  },
  {
   "cell_type": "markdown",
   "metadata": {},
   "source": [
    "### Merging Metadata with Labels Dataset"
   ]
  },
  {
   "cell_type": "code",
   "execution_count": 3,
   "metadata": {},
   "outputs": [],
   "source": [
    "# Merge train_metadata with train_labels on the image_id field\n",
    "full_metadata = train_metadata.merge(train_labels, on=\"Image_ID\")"
   ]
  },
  {
   "cell_type": "markdown",
   "metadata": {},
   "source": [
    "## 2. Images"
   ]
  },
  {
   "cell_type": "markdown",
   "metadata": {},
   "source": [
    "We add a file_name column to our training metadata, which will contain a Path object with the full path to our data."
   ]
  },
  {
   "cell_type": "code",
   "execution_count": 4,
   "metadata": {},
   "outputs": [],
   "source": [
    "# Convert 'train' to a Path object and concatenate the file names correctly\n",
    "full_metadata[\"file_name\"] = (\n",
    "    Path(\"train\") / (full_metadata[\"Image_ID\"].astype(str) + \".jpg\")\n",
    ")"
   ]
  },
  {
   "cell_type": "markdown",
   "metadata": {},
   "source": [
    "## 3. Model for Analysis"
   ]
  },
  {
   "cell_type": "code",
   "execution_count": 5,
   "metadata": {},
   "outputs": [],
   "source": [
    "# Add a temporary column for number of images per storm\n",
    "images_per_storm = full_metadata.groupby(\"Storm_ID\").size().to_frame(\"images_per_storm\")\n",
    "full_metadata = full_metadata.merge(images_per_storm, how=\"left\", on=\"Storm_ID\")"
   ]
  },
  {
   "cell_type": "code",
   "execution_count": 6,
   "metadata": {},
   "outputs": [],
   "source": [
    "# Each storm is sorted by relative time\n",
    "# Identify the final 20% of images per storm\n",
    "full_metadata[\"pct_of_storm\"] = (\n",
    "    full_metadata.groupby(\"Storm_ID\").cumcount() / full_metadata.images_per_storm\n",
    ")\n",
    "train = full_metadata[full_metadata.pct_of_storm < 0.8].drop(\n",
    "    [\"images_per_storm\", \"pct_of_storm\"], axis=1\n",
    ")\n",
    "val = full_metadata[full_metadata.pct_of_storm >= 0.8].drop(\n",
    "    [\"images_per_storm\", \"pct_of_storm\"], axis=1\n",
    ")"
   ]
  },
  {
   "cell_type": "code",
   "execution_count": 7,
   "metadata": {},
   "outputs": [
    {
     "data": {
      "text/plain": [
       "19.734688358455386"
      ]
     },
     "execution_count": 7,
     "metadata": {},
     "output_type": "execute_result"
    }
   ],
   "source": [
    "# Confirm pct of images in the validation set is approximately 20%\n",
    "len(val) / len(full_metadata) * 100"
   ]
  },
  {
   "cell_type": "code",
   "execution_count": 8,
   "metadata": {},
   "outputs": [],
   "source": [
    "# Sample 10% to increase performance\n",
    "train = train.sample(frac=0.1, replace=False, random_state=1)\n",
    "val = val.sample(frac=0.1, replace=False, random_state=1)"
   ]
  },
  {
   "cell_type": "code",
   "execution_count": 9,
   "metadata": {},
   "outputs": [
    {
     "data": {
      "text/plain": [
       "(5639, 6)"
      ]
     },
     "execution_count": 9,
     "metadata": {},
     "output_type": "execute_result"
    }
   ],
   "source": [
    "train.shape"
   ]
  },
  {
   "cell_type": "code",
   "execution_count": 10,
   "metadata": {},
   "outputs": [
    {
     "data": {
      "text/plain": [
       "(1386, 6)"
      ]
     },
     "execution_count": 10,
     "metadata": {},
     "output_type": "execute_result"
    }
   ],
   "source": [
    "val.shape"
   ]
  },
  {
   "cell_type": "markdown",
   "metadata": {},
   "source": [
    "### Splitting the Data"
   ]
  },
  {
   "cell_type": "code",
   "execution_count": 11,
   "metadata": {},
   "outputs": [],
   "source": [
    "# Separate features from labels\n",
    "x_train = train.drop(\"Wind_Speed\", axis=1)\n",
    "y_train = train.Wind_Speed\n",
    "\n",
    "x_val = val.drop(\"Wind_Speed\", axis=1)\n",
    "y_val = val.Wind_Speed"
   ]
  },
  {
   "cell_type": "markdown",
   "metadata": {},
   "source": [
    "### Building the Model"
   ]
  },
  {
   "cell_type": "code",
   "execution_count": 12,
   "metadata": {},
   "outputs": [],
   "source": [
    "class DatasetWIND(Dataset):\n",
    "    \"\"\"Reads in an image, transforms pixel values, and serves\n",
    "    a dictionary containing the image id, image tensors, and label.\n",
    "    \"\"\"\n",
    "    def __init__(self, x_train, y_train=None):\n",
    "        self.data = x_train\n",
    "        self.label = y_train\n",
    "        self.transform = transforms.Compose(\n",
    "            [\n",
    "                transforms.CenterCrop(128),\n",
    "                transforms.ToTensor(),\n",
    "                # All models expect the same normalization mean & std\n",
    "                # https://pytorch.org/docs/stable/torchvision/models.html\n",
    "                transforms.Normalize(\n",
    "                    mean=(0.485, 0.456, 0.406), std=(0.229, 0.224, 0.225)\n",
    "                ),\n",
    "            ]\n",
    "        )\n",
    "\n",
    "    def __len__(self):\n",
    "        return len(self.data)\n",
    "\n",
    "    def __getitem__(self, index):\n",
    "        image = pil_image.open(self.data.iloc[index][\"file_name\"]).convert(\"RGB\")\n",
    "        image = self.transform(image)\n",
    "        image_id = self.data.iloc[index][\"Image_ID\"]\n",
    "        \n",
    "        if self.label is not None:\n",
    "            label = float(self.label.iloc[index])\n",
    "            sample = {\"Image_ID\": image_id, \"image\": image, \"label\": label}\n",
    "        else:\n",
    "            sample = {\n",
    "                \"Image_ID\": image_id,\n",
    "                \"image\": image,\n",
    "            }\n",
    "        return sample"
   ]
  },
  {
   "cell_type": "code",
   "execution_count": 13,
   "metadata": {},
   "outputs": [],
   "source": [
    "class RMSELoss(nn.Module):\n",
    "    \"\"\"Measures Root Mean Square Error\"\"\"\n",
    "\n",
    "    def __init__(self):\n",
    "        super(RMSELoss, self).__init__()\n",
    "        self.mse = nn.MSELoss()\n",
    "\n",
    "    def forward(self, pred, true):\n",
    "        return torch.sqrt(self.mse(pred, true))"
   ]
  },
  {
   "cell_type": "code",
   "execution_count": 14,
   "metadata": {},
   "outputs": [],
   "source": [
    "class PretrainedWindModel(pl.LightningModule):\n",
    "    def __init__(self, hparams):\n",
    "        super(PretrainedWindModel, self).__init__()\n",
    "\n",
    "        self.save_hyperparameters(hparams)\n",
    "        self.learning_rate = self.hparams.get(\"lr\", 2e-4)\n",
    "        self.hidden_size = self.hparams.get(\"embedding_dim\", 50)\n",
    "        self.dropout = self.hparams.get(\"dropout\", 0.1)\n",
    "        self.max_epochs = self.hparams.get(\"max_epochs\", 1)\n",
    "        self.num_workers = self.hparams.get(\"num_workers\", 0)\n",
    "        self.batch_size = self.hparams.get(\"batch_size\", 10)\n",
    "        self.x_train = self.hparams.get(\"x_train\")\n",
    "        self.y_train = self.hparams.get(\"y_train\")\n",
    "        self.x_val = self.hparams.get(\"x_val\")\n",
    "        self.y_val = self.hparams.get(\"y_val\")\n",
    "        self.num_outputs = 1  # One prediction for regression\n",
    "\n",
    "        # Where the final model will be saved\n",
    "        self.output_path = Path.cwd() / self.hparams.get(\"output_path\", \"model-outputs\")\n",
    "        self.output_path.mkdir(exist_ok=True)\n",
    "\n",
    "        # Instantiating our training and validation datasets\n",
    "        self.train_dataset = DatasetWIND(self.x_train, self.y_train)\n",
    "        self.val_dataset = DatasetWIND(self.x_val, self.y_val)\n",
    "        self.model = self.prepare_model()\n",
    "    \n",
    "    def prepare_model(self):\n",
    "        efficientnet_model = EfficientNet.from_pretrained('efficientnet-b1')\n",
    "\n",
    "        # Change the final classification layer to a regression output\n",
    "        efficientnet_model._fc = nn.Sequential(\n",
    "            nn.Linear(1280, self.hidden_size),  # 1280 is the output size from EfficientNet\n",
    "            nn.ReLU(inplace=True),\n",
    "            nn.Dropout(self.dropout),\n",
    "            nn.Linear(self.hidden_size, self.num_outputs)  # Output 1 value for regression\n",
    "        )\n",
    "\n",
    "        return efficientnet_model\n",
    "\n",
    "\n",
    "    def forward(self, image):\n",
    "        output = self.model(image)  # Shape should be (batch_size, 1) after modification\n",
    "        return output.squeeze()  # Remove the extra dimension, resulting in shape (batch_size,)\n",
    "\n",
    "    def training_step(self, batch, batch_idx):\n",
    "        x = batch[\"image\"]\n",
    "        y = batch[\"label\"].type(torch.FloatTensor).squeeze()  # Ensure labels are (batch_size,)\n",
    "        \n",
    "        criterion = RMSELoss()\n",
    "        predictions = self.model(x).squeeze()  # Ensure the model output is (batch_size,)\n",
    "        \n",
    "        #print(f\"Predictions shape: {predictions.shape}, Labels shape: {y.shape}\")  # Debugging line\n",
    "        \n",
    "        loss = criterion(predictions, y)\n",
    "        \n",
    "        tensorboard_logs = {\"train_loss\": loss}\n",
    "        self.log(\"train_loss\", loss)\n",
    "        \n",
    "        return {\"loss\": loss, \"log\": tensorboard_logs}\n",
    "\n",
    "    def validation_step(self, batch, batch_idx):\n",
    "        x = batch[\"image\"]\n",
    "        y = batch[\"label\"].type(torch.FloatTensor).squeeze()  # Ensure labels are (batch_size,)\n",
    "        \n",
    "        criterion = RMSELoss()\n",
    "        predictions = self.model(x).squeeze()  # Ensure the model output is (batch_size,)\n",
    "        \n",
    "        #print(f\"Predictions shape: {predictions.shape}, Labels shape: {y.shape}\")  # Debugging line\n",
    "        \n",
    "        loss = criterion(predictions, y)\n",
    "        \n",
    "        tensorboard_logs = {\"val_loss\": loss}\n",
    "        self.log(\"val_loss\", loss)\n",
    "        \n",
    "        return {\"batch_val_loss\": loss, \"log\": tensorboard_logs}\n",
    "\n",
    "\n",
    "    def train_dataloader(self):\n",
    "        return DataLoader(self.train_dataset, num_workers=self.num_workers, batch_size=self.batch_size)\n",
    "\n",
    "    def val_dataloader(self):\n",
    "        return DataLoader(self.val_dataset, num_workers=self.num_workers, batch_size=self.batch_size)\n",
    "\n",
    "    def configure_optimizers(self):\n",
    "        return torch.optim.AdamW(self.model.parameters(), lr=self.learning_rate)\n",
    "\n",
    "    def on_train_epoch_end(self):\n",
    "        # The trainer automatically tracks losses, so you can log them easily\n",
    "        avg_train_loss = self.trainer.logged_metrics.get('train_loss', None)\n",
    "        if avg_train_loss:\n",
    "            self.log(\"avg_epoch_train_loss\", avg_train_loss)\n",
    "\n",
    "    def on_validation_epoch_end(self):\n",
    "        # Automatically collects validation losses and log them\n",
    "        avg_val_loss = self.trainer.logged_metrics.get('val_loss', None)\n",
    "        if avg_val_loss:\n",
    "            self.log(\"avg_epoch_val_loss\", avg_val_loss)\n",
    "        else:\n",
    "            self.log(\"avg_epoch_val_loss\", 0.0)\n",
    "\n",
    "    def make_submission_frame(self, x_test):\n",
    "        \"\"\"\n",
    "        This function generates a submission frame based on the test data.\n",
    "        Assumes the test data (x_test) is a DataFrame with an 'image_id' column.\n",
    "        It uses the model to predict the wind speed for each test image.\n",
    "        \"\"\"\n",
    "        test_dataset = DatasetWIND(x_test)\n",
    "        test_dataloader = DataLoader(\n",
    "            test_dataset, num_workers=self.num_workers, batch_size=self.batch_size\n",
    "        )\n",
    "        \n",
    "        submission_frame = pd.DataFrame(index=x_test.Image_ID, columns=[\"Wind_Speed\"])\n",
    "        \n",
    "        # Setting the model to evaluation mode for inference\n",
    "        self.eval()\n",
    "        \n",
    "        for batch in tqdm(test_dataloader, total=len(test_dataloader)):\n",
    "            x = batch[\"image\"]\n",
    "            preds = self.forward(x)  # Performs inference\n",
    "            submission_frame.loc[batch[\"Image_ID\"], \"Wind_Speed\"] = preds.detach().cpu().numpy().squeeze()\n",
    "        \n",
    "        submission_frame.Wind_Speed = submission_frame.Wind_Speed.astype(float)\n",
    "        return submission_frame\n"
   ]
  },
  {
   "cell_type": "markdown",
   "metadata": {},
   "source": [
    "### Fitting the Model"
   ]
  },
  {
   "cell_type": "code",
   "execution_count": 15,
   "metadata": {},
   "outputs": [],
   "source": [
    "hparams = {\n",
    "    # Required hparams\n",
    "    \"x_train\": x_train,  # Training dataset (features)\n",
    "    \"y_train\": y_train,  # Training dataset (labels)\n",
    "    \"x_val\": x_val,      # Validation dataset (features)\n",
    "    \"y_val\": y_val,      # Validation dataset (labels)\n",
    "\n",
    "    # Optional hparams\n",
    "    \"lr\": 2e-4,           # Learning rate for the optimizer\n",
    "    \"embedding_dim\": 100,  # Dimensionality of the embedding (hidden size)\n",
    "    \"dropout\": 0.1,        # Dropout rate for regularization\n",
    "    \"max_epochs\": 4,       # Maximum number of epochs to train the model\n",
    "    \"batch_size\": 10,      # Batch size for training\n",
    "    \"num_workers\": 0,      # Number of CPU workers for loading data\n",
    "    \"gradient_clip_val\": 1,  # Value for gradient clipping (helps prevent exploding gradients)\n",
    "    \"val_sanity_checks\": 0,  # Number of sanity checks for validation (usually 0)\n",
    "    \"output_path\": \"model-outputs\",  # Directory where the trained model will be saved\n",
    "    \"log_path\": \"logs\",          # Directory where TensorBoard logs will be saved\n",
    "}"
   ]
  },
  {
   "cell_type": "code",
   "execution_count": 16,
   "metadata": {},
   "outputs": [
    {
     "name": "stderr",
     "output_type": "stream",
     "text": [
      "GPU available: False, used: False\n",
      "TPU available: False, using: 0 TPU cores\n",
      "HPU available: False, using: 0 HPUs\n"
     ]
    },
    {
     "name": "stdout",
     "output_type": "stream",
     "text": [
      "Loaded pretrained weights for efficientnet-b1\n"
     ]
    },
    {
     "name": "stderr",
     "output_type": "stream",
     "text": [
      "\n",
      "  | Name  | Type         | Params | Mode \n",
      "-----------------------------------------------\n",
      "0 | model | EfficientNet | 6.6 M  | train\n",
      "-----------------------------------------------\n",
      "6.6 M     Trainable params\n",
      "0         Non-trainable params\n",
      "6.6 M     Total params\n",
      "26.566    Total estimated model params size (MB)\n",
      "355       Modules in train mode\n",
      "0         Modules in eval mode\n"
     ]
    },
    {
     "data": {
      "application/vnd.jupyter.widget-view+json": {
       "model_id": "203ba8a033454ebf8ba5beb159dced5a",
       "version_major": 2,
       "version_minor": 0
      },
      "text/plain": [
       "Training: |          | 0/? [00:00<?, ?it/s]"
      ]
     },
     "metadata": {},
     "output_type": "display_data"
    },
    {
     "data": {
      "application/vnd.jupyter.widget-view+json": {
       "model_id": "9ab4b74853c647e2b512889afcc5931a",
       "version_major": 2,
       "version_minor": 0
      },
      "text/plain": [
       "Validation: |          | 0/? [00:00<?, ?it/s]"
      ]
     },
     "metadata": {},
     "output_type": "display_data"
    },
    {
     "name": "stderr",
     "output_type": "stream",
     "text": [
      "Epoch 0, global step 564: 'avg_epoch_val_loss' reached 12.60712 (best 12.60712), saving model to 'C:\\\\Users\\\\lolyn\\\\OneDrive\\\\Escritorio\\\\CS668\\\\model-outputs\\\\epoch=0-step=564-v1.ckpt' as top 1\n"
     ]
    },
    {
     "data": {
      "application/vnd.jupyter.widget-view+json": {
       "model_id": "6e3e47c99fe84919b564ce9d3f1f4e51",
       "version_major": 2,
       "version_minor": 0
      },
      "text/plain": [
       "Validation: |          | 0/? [00:00<?, ?it/s]"
      ]
     },
     "metadata": {},
     "output_type": "display_data"
    },
    {
     "name": "stderr",
     "output_type": "stream",
     "text": [
      "Epoch 1, global step 1128: 'avg_epoch_val_loss' reached 11.79004 (best 11.79004), saving model to 'C:\\\\Users\\\\lolyn\\\\OneDrive\\\\Escritorio\\\\CS668\\\\model-outputs\\\\epoch=1-step=1128.ckpt' as top 1\n"
     ]
    },
    {
     "data": {
      "application/vnd.jupyter.widget-view+json": {
       "model_id": "c9fbea53adfc429c88e49ca22f2933f9",
       "version_major": 2,
       "version_minor": 0
      },
      "text/plain": [
       "Validation: |          | 0/? [00:00<?, ?it/s]"
      ]
     },
     "metadata": {},
     "output_type": "display_data"
    },
    {
     "name": "stderr",
     "output_type": "stream",
     "text": [
      "Epoch 2, global step 1692: 'avg_epoch_val_loss' reached 10.43822 (best 10.43822), saving model to 'C:\\\\Users\\\\lolyn\\\\OneDrive\\\\Escritorio\\\\CS668\\\\model-outputs\\\\epoch=2-step=1692-v1.ckpt' as top 1\n"
     ]
    },
    {
     "data": {
      "application/vnd.jupyter.widget-view+json": {
       "model_id": "830172064c564267aa87a1f51cdec5e7",
       "version_major": 2,
       "version_minor": 0
      },
      "text/plain": [
       "Validation: |          | 0/? [00:00<?, ?it/s]"
      ]
     },
     "metadata": {},
     "output_type": "display_data"
    },
    {
     "name": "stderr",
     "output_type": "stream",
     "text": [
      "Epoch 3, global step 2256: 'avg_epoch_val_loss' was not in top 1\n",
      "`Trainer.fit` stopped: `max_epochs=4` reached.\n"
     ]
    }
   ],
   "source": [
    "# Creating a logger instance\n",
    "logger = loggers.TensorBoardLogger(\"logs\", name=\"benchmark_model\")\n",
    "\n",
    "# Initializing the model with hparams\n",
    "storm_model = PretrainedWindModel(hparams=hparams)\n",
    "\n",
    "# Initializing the Trainer with the logger\n",
    "trainer = pl.Trainer(\n",
    "    max_epochs=hparams['max_epochs'],\n",
    "    default_root_dir=hparams['output_path'],\n",
    "    logger=logger,  # Pass the logger here\n",
    "    callbacks=[\n",
    "        pl.callbacks.ModelCheckpoint(\n",
    "            dirpath=hparams['output_path'], \n",
    "            monitor=\"avg_epoch_val_loss\", \n",
    "            mode=\"min\", \n",
    "            verbose=True\n",
    "        )\n",
    "    ],\n",
    "    gradient_clip_val=hparams[\"gradient_clip_val\"],\n",
    "    num_sanity_val_steps=hparams[\"val_sanity_checks\"],\n",
    ")\n",
    "\n",
    "# Fitting the model\n",
    "trainer.fit(storm_model)"
   ]
  },
  {
   "cell_type": "markdown",
   "metadata": {},
   "source": [
    "## 4. Model Results"
   ]
  },
  {
   "cell_type": "code",
   "execution_count": 17,
   "metadata": {},
   "outputs": [
    {
     "name": "stdout",
     "output_type": "stream",
     "text": [
      "Loaded pretrained weights for efficientnet-b1\n"
     ]
    }
   ],
   "source": [
    "# Best checkpoint based on logs\n",
    "best_checkpoint = str(Path(\"model-outputs\") / \"epoch=2-step=1692-v1.ckpt\")\n",
    "example_model = PretrainedWindModel.load_from_checkpoint(best_checkpoint)"
   ]
  },
  {
   "cell_type": "code",
   "execution_count": 18,
   "metadata": {},
   "outputs": [],
   "source": [
    "test_metadata = pd.read_csv(r\"data\\test_set_features.csv\")\n",
    "test_metadata[\"file_name\"] = (\n",
    "    Path(\"test\") / (test_metadata[\"Image_ID\"].astype(str) + \".jpg\")\n",
    ")"
   ]
  },
  {
   "cell_type": "markdown",
   "metadata": {},
   "source": [
    "### Creating our Submission.csv with the predictions"
   ]
  },
  {
   "cell_type": "code",
   "execution_count": 19,
   "metadata": {},
   "outputs": [
    {
     "name": "stderr",
     "output_type": "stream",
     "text": [
      "100%|██████████| 4438/4438 [15:07<00:00,  4.89it/s]\n"
     ]
    }
   ],
   "source": [
    "submission = example_model.make_submission_frame(test_metadata)\n",
    "submission.to_csv('efficientnetb1.csv', index=False)"
   ]
  },
  {
   "cell_type": "code",
   "execution_count": 20,
   "metadata": {},
   "outputs": [],
   "source": [
    "submission = pd.read_csv(r\"efficientnetb1.csv\")"
   ]
  },
  {
   "cell_type": "code",
   "execution_count": 21,
   "metadata": {},
   "outputs": [
    {
     "data": {
      "text/html": [
       "<div>\n",
       "<style scoped>\n",
       "    .dataframe tbody tr th:only-of-type {\n",
       "        vertical-align: middle;\n",
       "    }\n",
       "\n",
       "    .dataframe tbody tr th {\n",
       "        vertical-align: top;\n",
       "    }\n",
       "\n",
       "    .dataframe thead th {\n",
       "        text-align: right;\n",
       "    }\n",
       "</style>\n",
       "<table border=\"1\" class=\"dataframe\">\n",
       "  <thead>\n",
       "    <tr style=\"text-align: right;\">\n",
       "      <th></th>\n",
       "      <th>Wind_Speed</th>\n",
       "    </tr>\n",
       "  </thead>\n",
       "  <tbody>\n",
       "    <tr>\n",
       "      <th>0</th>\n",
       "      <td>87.073341</td>\n",
       "    </tr>\n",
       "    <tr>\n",
       "      <th>1</th>\n",
       "      <td>70.221558</td>\n",
       "    </tr>\n",
       "    <tr>\n",
       "      <th>2</th>\n",
       "      <td>62.090458</td>\n",
       "    </tr>\n",
       "    <tr>\n",
       "      <th>3</th>\n",
       "      <td>75.871559</td>\n",
       "    </tr>\n",
       "    <tr>\n",
       "      <th>4</th>\n",
       "      <td>70.470345</td>\n",
       "    </tr>\n",
       "  </tbody>\n",
       "</table>\n",
       "</div>"
      ],
      "text/plain": [
       "   Wind_Speed\n",
       "0   87.073341\n",
       "1   70.221558\n",
       "2   62.090458\n",
       "3   75.871559\n",
       "4   70.470345"
      ]
     },
     "execution_count": 21,
     "metadata": {},
     "output_type": "execute_result"
    }
   ],
   "source": [
    "submission.head()"
   ]
  },
  {
   "cell_type": "code",
   "execution_count": 22,
   "metadata": {},
   "outputs": [
    {
     "data": {
      "text/html": [
       "<div>\n",
       "<style scoped>\n",
       "    .dataframe tbody tr th:only-of-type {\n",
       "        vertical-align: middle;\n",
       "    }\n",
       "\n",
       "    .dataframe tbody tr th {\n",
       "        vertical-align: top;\n",
       "    }\n",
       "\n",
       "    .dataframe thead th {\n",
       "        text-align: right;\n",
       "    }\n",
       "</style>\n",
       "<table border=\"1\" class=\"dataframe\">\n",
       "  <thead>\n",
       "    <tr style=\"text-align: right;\">\n",
       "      <th></th>\n",
       "      <th>Wind_Speed</th>\n",
       "    </tr>\n",
       "  </thead>\n",
       "  <tbody>\n",
       "    <tr>\n",
       "      <th>0</th>\n",
       "      <td>87</td>\n",
       "    </tr>\n",
       "    <tr>\n",
       "      <th>1</th>\n",
       "      <td>70</td>\n",
       "    </tr>\n",
       "    <tr>\n",
       "      <th>2</th>\n",
       "      <td>62</td>\n",
       "    </tr>\n",
       "    <tr>\n",
       "      <th>3</th>\n",
       "      <td>76</td>\n",
       "    </tr>\n",
       "    <tr>\n",
       "      <th>4</th>\n",
       "      <td>70</td>\n",
       "    </tr>\n",
       "  </tbody>\n",
       "</table>\n",
       "</div>"
      ],
      "text/plain": [
       "   Wind_Speed\n",
       "0          87\n",
       "1          70\n",
       "2          62\n",
       "3          76\n",
       "4          70"
      ]
     },
     "execution_count": 22,
     "metadata": {},
     "output_type": "execute_result"
    }
   ],
   "source": [
    "# We need it in int so it can be like our test_labels\n",
    "submission = submission.round().astype(int)\n",
    "submission.head()"
   ]
  },
  {
   "cell_type": "code",
   "execution_count": 23,
   "metadata": {},
   "outputs": [
    {
     "data": {
      "text/plain": [
       "count    44377.000000\n",
       "mean        45.656737\n",
       "std         19.737489\n",
       "min         14.000000\n",
       "25%         32.000000\n",
       "50%         40.000000\n",
       "75%         53.000000\n",
       "max        143.000000\n",
       "Name: Wind_Speed, dtype: float64"
      ]
     },
     "execution_count": 23,
     "metadata": {},
     "output_type": "execute_result"
    }
   ],
   "source": [
    "submission.Wind_Speed.describe()"
   ]
  },
  {
   "cell_type": "markdown",
   "metadata": {},
   "source": [
    "## 5. Model Metrics and Evaluation"
   ]
  },
  {
   "cell_type": "code",
   "execution_count": 24,
   "metadata": {},
   "outputs": [],
   "source": [
    "# We call our test_labels.csv for model evaluation\n",
    "test_labels = pd.read_csv(r\"data\\test_set_labels.csv\")"
   ]
  },
  {
   "cell_type": "code",
   "execution_count": 25,
   "metadata": {},
   "outputs": [
    {
     "name": "stdout",
     "output_type": "stream",
     "text": [
      "RMSE: 11.958185366699608\n"
     ]
    }
   ],
   "source": [
    "# Assuming 'y_true' and 'y_pred' are your true labels and predictions\n",
    "y_true = test_labels['Wind_Speed'] # True values\n",
    "y_pred = submission['Wind_Speed']  # Predicted values\n",
    "\n",
    "mse = mean_squared_error(y_true, y_pred)\n",
    "rmse = np.sqrt(mse)\n",
    "\n",
    "print(f\"RMSE: {rmse}\")"
   ]
  },
  {
   "cell_type": "markdown",
   "metadata": {},
   "source": [
    "### Visualization"
   ]
  },
  {
   "cell_type": "code",
   "execution_count": 26,
   "metadata": {},
   "outputs": [
    {
     "data": {
      "image/png": "[encoded data removed]",
      "text/plain": [
       "<Figure size 1000x600 with 1 Axes>"
      ]
     },
     "metadata": {},
     "output_type": "display_data"
    }
   ],
   "source": [
    "# Performing a Random Sample from our test_labels vs Submission Wind Speed values\n",
    "y_true_rand = (test_labels['Wind_Speed']).sample(n=70, random_state=42)\n",
    "y_pred_rand = (submission['Wind_Speed']).sample(n=70, random_state=42)\n",
    "\n",
    "# Calculating the difference between true and predicted\n",
    "difference = y_true_rand - y_pred_rand\n",
    "\n",
    "# Scatter plot of difference vs wind speed\n",
    "plt.figure(figsize=(10, 6))\n",
    "plt.scatter(y_true_rand, difference, color='green', label='Difference (True - Predicted)', alpha=0.7)\n",
    "\n",
    "# Adding titles and labels\n",
    "plt.title(\"Difference between True and Predicted Points vs Wind Speed\")\n",
    "plt.xlabel(\"Wind Speed (km/h or m/s)\")\n",
    "plt.ylabel(\"Difference in Points\")\n",
    "\n",
    "# Show the legend\n",
    "plt.legend()\n",
    "\n",
    "# Show the plot\n",
    "plt.show()"
   ]
  },
  {
   "cell_type": "markdown",
   "metadata": {},
   "source": [
    "### Model Composition"
   ]
  },
  {
   "cell_type": "code",
   "execution_count": 27,
   "metadata": {},
   "outputs": [
    {
     "name": "stdout",
     "output_type": "stream",
     "text": [
      "----------------------------------------------------------------\n",
      "        Layer (type)               Output Shape         Param #\n",
      "================================================================\n",
      "         ZeroPad2d-1          [-1, 3, 225, 225]               0\n",
      "Conv2dStaticSamePadding-2         [-1, 32, 112, 112]             864\n",
      "       BatchNorm2d-3         [-1, 32, 112, 112]              64\n",
      "MemoryEfficientSwish-4         [-1, 32, 112, 112]               0\n",
      "         ZeroPad2d-5         [-1, 32, 114, 114]               0\n",
      "Conv2dStaticSamePadding-6         [-1, 32, 112, 112]             288\n",
      "       BatchNorm2d-7         [-1, 32, 112, 112]              64\n",
      "MemoryEfficientSwish-8         [-1, 32, 112, 112]               0\n",
      "          Identity-9             [-1, 32, 1, 1]               0\n",
      "Conv2dStaticSamePadding-10              [-1, 8, 1, 1]             264\n",
      "MemoryEfficientSwish-11              [-1, 8, 1, 1]               0\n",
      "         Identity-12              [-1, 8, 1, 1]               0\n",
      "Conv2dStaticSamePadding-13             [-1, 32, 1, 1]             288\n",
      "         Identity-14         [-1, 32, 112, 112]               0\n",
      "Conv2dStaticSamePadding-15         [-1, 16, 112, 112]             512\n",
      "      BatchNorm2d-16         [-1, 16, 112, 112]              32\n",
      "      MBConvBlock-17         [-1, 16, 112, 112]               0\n",
      "        ZeroPad2d-18         [-1, 16, 114, 114]               0\n",
      "Conv2dStaticSamePadding-19         [-1, 16, 112, 112]             144\n",
      "      BatchNorm2d-20         [-1, 16, 112, 112]              32\n",
      "MemoryEfficientSwish-21         [-1, 16, 112, 112]               0\n",
      "         Identity-22             [-1, 16, 1, 1]               0\n",
      "Conv2dStaticSamePadding-23              [-1, 4, 1, 1]              68\n",
      "MemoryEfficientSwish-24              [-1, 4, 1, 1]               0\n",
      "         Identity-25              [-1, 4, 1, 1]               0\n",
      "Conv2dStaticSamePadding-26             [-1, 16, 1, 1]              80\n",
      "         Identity-27         [-1, 16, 112, 112]               0\n",
      "Conv2dStaticSamePadding-28         [-1, 16, 112, 112]             256\n",
      "      BatchNorm2d-29         [-1, 16, 112, 112]              32\n",
      "      MBConvBlock-30         [-1, 16, 112, 112]               0\n",
      "         Identity-31         [-1, 16, 112, 112]               0\n",
      "Conv2dStaticSamePadding-32         [-1, 96, 112, 112]           1,536\n",
      "      BatchNorm2d-33         [-1, 96, 112, 112]             192\n",
      "MemoryEfficientSwish-34         [-1, 96, 112, 112]               0\n",
      "        ZeroPad2d-35         [-1, 96, 113, 113]               0\n",
      "Conv2dStaticSamePadding-36           [-1, 96, 56, 56]             864\n",
      "      BatchNorm2d-37           [-1, 96, 56, 56]             192\n",
      "MemoryEfficientSwish-38           [-1, 96, 56, 56]               0\n",
      "         Identity-39             [-1, 96, 1, 1]               0\n",
      "Conv2dStaticSamePadding-40              [-1, 4, 1, 1]             388\n",
      "MemoryEfficientSwish-41              [-1, 4, 1, 1]               0\n",
      "         Identity-42              [-1, 4, 1, 1]               0\n",
      "Conv2dStaticSamePadding-43             [-1, 96, 1, 1]             480\n",
      "         Identity-44           [-1, 96, 56, 56]               0\n",
      "Conv2dStaticSamePadding-45           [-1, 24, 56, 56]           2,304\n",
      "      BatchNorm2d-46           [-1, 24, 56, 56]              48\n",
      "      MBConvBlock-47           [-1, 24, 56, 56]               0\n",
      "         Identity-48           [-1, 24, 56, 56]               0\n",
      "Conv2dStaticSamePadding-49          [-1, 144, 56, 56]           3,456\n",
      "      BatchNorm2d-50          [-1, 144, 56, 56]             288\n",
      "MemoryEfficientSwish-51          [-1, 144, 56, 56]               0\n",
      "        ZeroPad2d-52          [-1, 144, 58, 58]               0\n",
      "Conv2dStaticSamePadding-53          [-1, 144, 56, 56]           1,296\n",
      "      BatchNorm2d-54          [-1, 144, 56, 56]             288\n",
      "MemoryEfficientSwish-55          [-1, 144, 56, 56]               0\n",
      "         Identity-56            [-1, 144, 1, 1]               0\n",
      "Conv2dStaticSamePadding-57              [-1, 6, 1, 1]             870\n",
      "MemoryEfficientSwish-58              [-1, 6, 1, 1]               0\n",
      "         Identity-59              [-1, 6, 1, 1]               0\n",
      "Conv2dStaticSamePadding-60            [-1, 144, 1, 1]           1,008\n",
      "         Identity-61          [-1, 144, 56, 56]               0\n",
      "Conv2dStaticSamePadding-62           [-1, 24, 56, 56]           3,456\n",
      "      BatchNorm2d-63           [-1, 24, 56, 56]              48\n",
      "      MBConvBlock-64           [-1, 24, 56, 56]               0\n",
      "         Identity-65           [-1, 24, 56, 56]               0\n",
      "Conv2dStaticSamePadding-66          [-1, 144, 56, 56]           3,456\n",
      "      BatchNorm2d-67          [-1, 144, 56, 56]             288\n",
      "MemoryEfficientSwish-68          [-1, 144, 56, 56]               0\n",
      "        ZeroPad2d-69          [-1, 144, 58, 58]               0\n",
      "Conv2dStaticSamePadding-70          [-1, 144, 56, 56]           1,296\n",
      "      BatchNorm2d-71          [-1, 144, 56, 56]             288\n",
      "MemoryEfficientSwish-72          [-1, 144, 56, 56]               0\n",
      "         Identity-73            [-1, 144, 1, 1]               0\n",
      "Conv2dStaticSamePadding-74              [-1, 6, 1, 1]             870\n",
      "MemoryEfficientSwish-75              [-1, 6, 1, 1]               0\n",
      "         Identity-76              [-1, 6, 1, 1]               0\n",
      "Conv2dStaticSamePadding-77            [-1, 144, 1, 1]           1,008\n",
      "         Identity-78          [-1, 144, 56, 56]               0\n",
      "Conv2dStaticSamePadding-79           [-1, 24, 56, 56]           3,456\n",
      "      BatchNorm2d-80           [-1, 24, 56, 56]              48\n",
      "      MBConvBlock-81           [-1, 24, 56, 56]               0\n",
      "         Identity-82           [-1, 24, 56, 56]               0\n",
      "Conv2dStaticSamePadding-83          [-1, 144, 56, 56]           3,456\n",
      "      BatchNorm2d-84          [-1, 144, 56, 56]             288\n",
      "MemoryEfficientSwish-85          [-1, 144, 56, 56]               0\n",
      "        ZeroPad2d-86          [-1, 144, 59, 59]               0\n",
      "Conv2dStaticSamePadding-87          [-1, 144, 28, 28]           3,600\n",
      "      BatchNorm2d-88          [-1, 144, 28, 28]             288\n",
      "MemoryEfficientSwish-89          [-1, 144, 28, 28]               0\n",
      "         Identity-90            [-1, 144, 1, 1]               0\n",
      "Conv2dStaticSamePadding-91              [-1, 6, 1, 1]             870\n",
      "MemoryEfficientSwish-92              [-1, 6, 1, 1]               0\n",
      "         Identity-93              [-1, 6, 1, 1]               0\n",
      "Conv2dStaticSamePadding-94            [-1, 144, 1, 1]           1,008\n",
      "         Identity-95          [-1, 144, 28, 28]               0\n",
      "Conv2dStaticSamePadding-96           [-1, 40, 28, 28]           5,760\n",
      "      BatchNorm2d-97           [-1, 40, 28, 28]              80\n",
      "      MBConvBlock-98           [-1, 40, 28, 28]               0\n",
      "         Identity-99           [-1, 40, 28, 28]               0\n",
      "Conv2dStaticSamePadding-100          [-1, 240, 28, 28]           9,600\n",
      "     BatchNorm2d-101          [-1, 240, 28, 28]             480\n",
      "MemoryEfficientSwish-102          [-1, 240, 28, 28]               0\n",
      "       ZeroPad2d-103          [-1, 240, 32, 32]               0\n",
      "Conv2dStaticSamePadding-104          [-1, 240, 28, 28]           6,000\n",
      "     BatchNorm2d-105          [-1, 240, 28, 28]             480\n",
      "MemoryEfficientSwish-106          [-1, 240, 28, 28]               0\n",
      "        Identity-107            [-1, 240, 1, 1]               0\n",
      "Conv2dStaticSamePadding-108             [-1, 10, 1, 1]           2,410\n",
      "MemoryEfficientSwish-109             [-1, 10, 1, 1]               0\n",
      "        Identity-110             [-1, 10, 1, 1]               0\n",
      "Conv2dStaticSamePadding-111            [-1, 240, 1, 1]           2,640\n",
      "        Identity-112          [-1, 240, 28, 28]               0\n",
      "Conv2dStaticSamePadding-113           [-1, 40, 28, 28]           9,600\n",
      "     BatchNorm2d-114           [-1, 40, 28, 28]              80\n",
      "     MBConvBlock-115           [-1, 40, 28, 28]               0\n",
      "        Identity-116           [-1, 40, 28, 28]               0\n",
      "Conv2dStaticSamePadding-117          [-1, 240, 28, 28]           9,600\n",
      "     BatchNorm2d-118          [-1, 240, 28, 28]             480\n",
      "MemoryEfficientSwish-119          [-1, 240, 28, 28]               0\n",
      "       ZeroPad2d-120          [-1, 240, 32, 32]               0\n",
      "Conv2dStaticSamePadding-121          [-1, 240, 28, 28]           6,000\n",
      "     BatchNorm2d-122          [-1, 240, 28, 28]             480\n",
      "MemoryEfficientSwish-123          [-1, 240, 28, 28]               0\n",
      "        Identity-124            [-1, 240, 1, 1]               0\n",
      "Conv2dStaticSamePadding-125             [-1, 10, 1, 1]           2,410\n",
      "MemoryEfficientSwish-126             [-1, 10, 1, 1]               0\n",
      "        Identity-127             [-1, 10, 1, 1]               0\n",
      "Conv2dStaticSamePadding-128            [-1, 240, 1, 1]           2,640\n",
      "        Identity-129          [-1, 240, 28, 28]               0\n",
      "Conv2dStaticSamePadding-130           [-1, 40, 28, 28]           9,600\n",
      "     BatchNorm2d-131           [-1, 40, 28, 28]              80\n",
      "     MBConvBlock-132           [-1, 40, 28, 28]               0\n",
      "        Identity-133           [-1, 40, 28, 28]               0\n",
      "Conv2dStaticSamePadding-134          [-1, 240, 28, 28]           9,600\n",
      "     BatchNorm2d-135          [-1, 240, 28, 28]             480\n",
      "MemoryEfficientSwish-136          [-1, 240, 28, 28]               0\n",
      "       ZeroPad2d-137          [-1, 240, 29, 29]               0\n",
      "Conv2dStaticSamePadding-138          [-1, 240, 14, 14]           2,160\n",
      "     BatchNorm2d-139          [-1, 240, 14, 14]             480\n",
      "MemoryEfficientSwish-140          [-1, 240, 14, 14]               0\n",
      "        Identity-141            [-1, 240, 1, 1]               0\n",
      "Conv2dStaticSamePadding-142             [-1, 10, 1, 1]           2,410\n",
      "MemoryEfficientSwish-143             [-1, 10, 1, 1]               0\n",
      "        Identity-144             [-1, 10, 1, 1]               0\n",
      "Conv2dStaticSamePadding-145            [-1, 240, 1, 1]           2,640\n",
      "        Identity-146          [-1, 240, 14, 14]               0\n",
      "Conv2dStaticSamePadding-147           [-1, 80, 14, 14]          19,200\n",
      "     BatchNorm2d-148           [-1, 80, 14, 14]             160\n",
      "     MBConvBlock-149           [-1, 80, 14, 14]               0\n",
      "        Identity-150           [-1, 80, 14, 14]               0\n",
      "Conv2dStaticSamePadding-151          [-1, 480, 14, 14]          38,400\n",
      "     BatchNorm2d-152          [-1, 480, 14, 14]             960\n",
      "MemoryEfficientSwish-153          [-1, 480, 14, 14]               0\n",
      "       ZeroPad2d-154          [-1, 480, 16, 16]               0\n",
      "Conv2dStaticSamePadding-155          [-1, 480, 14, 14]           4,320\n",
      "     BatchNorm2d-156          [-1, 480, 14, 14]             960\n",
      "MemoryEfficientSwish-157          [-1, 480, 14, 14]               0\n",
      "        Identity-158            [-1, 480, 1, 1]               0\n",
      "Conv2dStaticSamePadding-159             [-1, 20, 1, 1]           9,620\n",
      "MemoryEfficientSwish-160             [-1, 20, 1, 1]               0\n",
      "        Identity-161             [-1, 20, 1, 1]               0\n",
      "Conv2dStaticSamePadding-162            [-1, 480, 1, 1]          10,080\n",
      "        Identity-163          [-1, 480, 14, 14]               0\n",
      "Conv2dStaticSamePadding-164           [-1, 80, 14, 14]          38,400\n",
      "     BatchNorm2d-165           [-1, 80, 14, 14]             160\n",
      "     MBConvBlock-166           [-1, 80, 14, 14]               0\n",
      "        Identity-167           [-1, 80, 14, 14]               0\n",
      "Conv2dStaticSamePadding-168          [-1, 480, 14, 14]          38,400\n",
      "     BatchNorm2d-169          [-1, 480, 14, 14]             960\n",
      "MemoryEfficientSwish-170          [-1, 480, 14, 14]               0\n",
      "       ZeroPad2d-171          [-1, 480, 16, 16]               0\n",
      "Conv2dStaticSamePadding-172          [-1, 480, 14, 14]           4,320\n",
      "     BatchNorm2d-173          [-1, 480, 14, 14]             960\n",
      "MemoryEfficientSwish-174          [-1, 480, 14, 14]               0\n",
      "        Identity-175            [-1, 480, 1, 1]               0\n",
      "Conv2dStaticSamePadding-176             [-1, 20, 1, 1]           9,620\n",
      "MemoryEfficientSwish-177             [-1, 20, 1, 1]               0\n",
      "        Identity-178             [-1, 20, 1, 1]               0\n",
      "Conv2dStaticSamePadding-179            [-1, 480, 1, 1]          10,080\n",
      "        Identity-180          [-1, 480, 14, 14]               0\n",
      "Conv2dStaticSamePadding-181           [-1, 80, 14, 14]          38,400\n",
      "     BatchNorm2d-182           [-1, 80, 14, 14]             160\n",
      "     MBConvBlock-183           [-1, 80, 14, 14]               0\n",
      "        Identity-184           [-1, 80, 14, 14]               0\n",
      "Conv2dStaticSamePadding-185          [-1, 480, 14, 14]          38,400\n",
      "     BatchNorm2d-186          [-1, 480, 14, 14]             960\n",
      "MemoryEfficientSwish-187          [-1, 480, 14, 14]               0\n",
      "       ZeroPad2d-188          [-1, 480, 16, 16]               0\n",
      "Conv2dStaticSamePadding-189          [-1, 480, 14, 14]           4,320\n",
      "     BatchNorm2d-190          [-1, 480, 14, 14]             960\n",
      "MemoryEfficientSwish-191          [-1, 480, 14, 14]               0\n",
      "        Identity-192            [-1, 480, 1, 1]               0\n",
      "Conv2dStaticSamePadding-193             [-1, 20, 1, 1]           9,620\n",
      "MemoryEfficientSwish-194             [-1, 20, 1, 1]               0\n",
      "        Identity-195             [-1, 20, 1, 1]               0\n",
      "Conv2dStaticSamePadding-196            [-1, 480, 1, 1]          10,080\n",
      "        Identity-197          [-1, 480, 14, 14]               0\n",
      "Conv2dStaticSamePadding-198           [-1, 80, 14, 14]          38,400\n",
      "     BatchNorm2d-199           [-1, 80, 14, 14]             160\n",
      "     MBConvBlock-200           [-1, 80, 14, 14]               0\n",
      "        Identity-201           [-1, 80, 14, 14]               0\n",
      "Conv2dStaticSamePadding-202          [-1, 480, 14, 14]          38,400\n",
      "     BatchNorm2d-203          [-1, 480, 14, 14]             960\n",
      "MemoryEfficientSwish-204          [-1, 480, 14, 14]               0\n",
      "       ZeroPad2d-205          [-1, 480, 18, 18]               0\n",
      "Conv2dStaticSamePadding-206          [-1, 480, 14, 14]          12,000\n",
      "     BatchNorm2d-207          [-1, 480, 14, 14]             960\n",
      "MemoryEfficientSwish-208          [-1, 480, 14, 14]               0\n",
      "        Identity-209            [-1, 480, 1, 1]               0\n",
      "Conv2dStaticSamePadding-210             [-1, 20, 1, 1]           9,620\n",
      "MemoryEfficientSwish-211             [-1, 20, 1, 1]               0\n",
      "        Identity-212             [-1, 20, 1, 1]               0\n",
      "Conv2dStaticSamePadding-213            [-1, 480, 1, 1]          10,080\n",
      "        Identity-214          [-1, 480, 14, 14]               0\n",
      "Conv2dStaticSamePadding-215          [-1, 112, 14, 14]          53,760\n",
      "     BatchNorm2d-216          [-1, 112, 14, 14]             224\n",
      "     MBConvBlock-217          [-1, 112, 14, 14]               0\n",
      "        Identity-218          [-1, 112, 14, 14]               0\n",
      "Conv2dStaticSamePadding-219          [-1, 672, 14, 14]          75,264\n",
      "     BatchNorm2d-220          [-1, 672, 14, 14]           1,344\n",
      "MemoryEfficientSwish-221          [-1, 672, 14, 14]               0\n",
      "       ZeroPad2d-222          [-1, 672, 18, 18]               0\n",
      "Conv2dStaticSamePadding-223          [-1, 672, 14, 14]          16,800\n",
      "     BatchNorm2d-224          [-1, 672, 14, 14]           1,344\n",
      "MemoryEfficientSwish-225          [-1, 672, 14, 14]               0\n",
      "        Identity-226            [-1, 672, 1, 1]               0\n",
      "Conv2dStaticSamePadding-227             [-1, 28, 1, 1]          18,844\n",
      "MemoryEfficientSwish-228             [-1, 28, 1, 1]               0\n",
      "        Identity-229             [-1, 28, 1, 1]               0\n",
      "Conv2dStaticSamePadding-230            [-1, 672, 1, 1]          19,488\n",
      "        Identity-231          [-1, 672, 14, 14]               0\n",
      "Conv2dStaticSamePadding-232          [-1, 112, 14, 14]          75,264\n",
      "     BatchNorm2d-233          [-1, 112, 14, 14]             224\n",
      "     MBConvBlock-234          [-1, 112, 14, 14]               0\n",
      "        Identity-235          [-1, 112, 14, 14]               0\n",
      "Conv2dStaticSamePadding-236          [-1, 672, 14, 14]          75,264\n",
      "     BatchNorm2d-237          [-1, 672, 14, 14]           1,344\n",
      "MemoryEfficientSwish-238          [-1, 672, 14, 14]               0\n",
      "       ZeroPad2d-239          [-1, 672, 18, 18]               0\n",
      "Conv2dStaticSamePadding-240          [-1, 672, 14, 14]          16,800\n",
      "     BatchNorm2d-241          [-1, 672, 14, 14]           1,344\n",
      "MemoryEfficientSwish-242          [-1, 672, 14, 14]               0\n",
      "        Identity-243            [-1, 672, 1, 1]               0\n",
      "Conv2dStaticSamePadding-244             [-1, 28, 1, 1]          18,844\n",
      "MemoryEfficientSwish-245             [-1, 28, 1, 1]               0\n",
      "        Identity-246             [-1, 28, 1, 1]               0\n",
      "Conv2dStaticSamePadding-247            [-1, 672, 1, 1]          19,488\n",
      "        Identity-248          [-1, 672, 14, 14]               0\n",
      "Conv2dStaticSamePadding-249          [-1, 112, 14, 14]          75,264\n",
      "     BatchNorm2d-250          [-1, 112, 14, 14]             224\n",
      "     MBConvBlock-251          [-1, 112, 14, 14]               0\n",
      "        Identity-252          [-1, 112, 14, 14]               0\n",
      "Conv2dStaticSamePadding-253          [-1, 672, 14, 14]          75,264\n",
      "     BatchNorm2d-254          [-1, 672, 14, 14]           1,344\n",
      "MemoryEfficientSwish-255          [-1, 672, 14, 14]               0\n",
      "       ZeroPad2d-256          [-1, 672, 18, 18]               0\n",
      "Conv2dStaticSamePadding-257          [-1, 672, 14, 14]          16,800\n",
      "     BatchNorm2d-258          [-1, 672, 14, 14]           1,344\n",
      "MemoryEfficientSwish-259          [-1, 672, 14, 14]               0\n",
      "        Identity-260            [-1, 672, 1, 1]               0\n",
      "Conv2dStaticSamePadding-261             [-1, 28, 1, 1]          18,844\n",
      "MemoryEfficientSwish-262             [-1, 28, 1, 1]               0\n",
      "        Identity-263             [-1, 28, 1, 1]               0\n",
      "Conv2dStaticSamePadding-264            [-1, 672, 1, 1]          19,488\n",
      "        Identity-265          [-1, 672, 14, 14]               0\n",
      "Conv2dStaticSamePadding-266          [-1, 112, 14, 14]          75,264\n",
      "     BatchNorm2d-267          [-1, 112, 14, 14]             224\n",
      "     MBConvBlock-268          [-1, 112, 14, 14]               0\n",
      "        Identity-269          [-1, 112, 14, 14]               0\n",
      "Conv2dStaticSamePadding-270          [-1, 672, 14, 14]          75,264\n",
      "     BatchNorm2d-271          [-1, 672, 14, 14]           1,344\n",
      "MemoryEfficientSwish-272          [-1, 672, 14, 14]               0\n",
      "       ZeroPad2d-273          [-1, 672, 18, 18]               0\n",
      "Conv2dStaticSamePadding-274            [-1, 672, 7, 7]          16,800\n",
      "     BatchNorm2d-275            [-1, 672, 7, 7]           1,344\n",
      "MemoryEfficientSwish-276            [-1, 672, 7, 7]               0\n",
      "        Identity-277            [-1, 672, 1, 1]               0\n",
      "Conv2dStaticSamePadding-278             [-1, 28, 1, 1]          18,844\n",
      "MemoryEfficientSwish-279             [-1, 28, 1, 1]               0\n",
      "        Identity-280             [-1, 28, 1, 1]               0\n",
      "Conv2dStaticSamePadding-281            [-1, 672, 1, 1]          19,488\n",
      "        Identity-282            [-1, 672, 7, 7]               0\n",
      "Conv2dStaticSamePadding-283            [-1, 192, 7, 7]         129,024\n",
      "     BatchNorm2d-284            [-1, 192, 7, 7]             384\n",
      "     MBConvBlock-285            [-1, 192, 7, 7]               0\n",
      "        Identity-286            [-1, 192, 7, 7]               0\n",
      "Conv2dStaticSamePadding-287           [-1, 1152, 7, 7]         221,184\n",
      "     BatchNorm2d-288           [-1, 1152, 7, 7]           2,304\n",
      "MemoryEfficientSwish-289           [-1, 1152, 7, 7]               0\n",
      "       ZeroPad2d-290         [-1, 1152, 11, 11]               0\n",
      "Conv2dStaticSamePadding-291           [-1, 1152, 7, 7]          28,800\n",
      "     BatchNorm2d-292           [-1, 1152, 7, 7]           2,304\n",
      "MemoryEfficientSwish-293           [-1, 1152, 7, 7]               0\n",
      "        Identity-294           [-1, 1152, 1, 1]               0\n",
      "Conv2dStaticSamePadding-295             [-1, 48, 1, 1]          55,344\n",
      "MemoryEfficientSwish-296             [-1, 48, 1, 1]               0\n",
      "        Identity-297             [-1, 48, 1, 1]               0\n",
      "Conv2dStaticSamePadding-298           [-1, 1152, 1, 1]          56,448\n",
      "        Identity-299           [-1, 1152, 7, 7]               0\n",
      "Conv2dStaticSamePadding-300            [-1, 192, 7, 7]         221,184\n",
      "     BatchNorm2d-301            [-1, 192, 7, 7]             384\n",
      "     MBConvBlock-302            [-1, 192, 7, 7]               0\n",
      "        Identity-303            [-1, 192, 7, 7]               0\n",
      "Conv2dStaticSamePadding-304           [-1, 1152, 7, 7]         221,184\n",
      "     BatchNorm2d-305           [-1, 1152, 7, 7]           2,304\n",
      "MemoryEfficientSwish-306           [-1, 1152, 7, 7]               0\n",
      "       ZeroPad2d-307         [-1, 1152, 11, 11]               0\n",
      "Conv2dStaticSamePadding-308           [-1, 1152, 7, 7]          28,800\n",
      "     BatchNorm2d-309           [-1, 1152, 7, 7]           2,304\n",
      "MemoryEfficientSwish-310           [-1, 1152, 7, 7]               0\n",
      "        Identity-311           [-1, 1152, 1, 1]               0\n",
      "Conv2dStaticSamePadding-312             [-1, 48, 1, 1]          55,344\n",
      "MemoryEfficientSwish-313             [-1, 48, 1, 1]               0\n",
      "        Identity-314             [-1, 48, 1, 1]               0\n",
      "Conv2dStaticSamePadding-315           [-1, 1152, 1, 1]          56,448\n",
      "        Identity-316           [-1, 1152, 7, 7]               0\n",
      "Conv2dStaticSamePadding-317            [-1, 192, 7, 7]         221,184\n",
      "     BatchNorm2d-318            [-1, 192, 7, 7]             384\n",
      "     MBConvBlock-319            [-1, 192, 7, 7]               0\n",
      "        Identity-320            [-1, 192, 7, 7]               0\n",
      "Conv2dStaticSamePadding-321           [-1, 1152, 7, 7]         221,184\n",
      "     BatchNorm2d-322           [-1, 1152, 7, 7]           2,304\n",
      "MemoryEfficientSwish-323           [-1, 1152, 7, 7]               0\n",
      "       ZeroPad2d-324         [-1, 1152, 11, 11]               0\n",
      "Conv2dStaticSamePadding-325           [-1, 1152, 7, 7]          28,800\n",
      "     BatchNorm2d-326           [-1, 1152, 7, 7]           2,304\n",
      "MemoryEfficientSwish-327           [-1, 1152, 7, 7]               0\n",
      "        Identity-328           [-1, 1152, 1, 1]               0\n",
      "Conv2dStaticSamePadding-329             [-1, 48, 1, 1]          55,344\n",
      "MemoryEfficientSwish-330             [-1, 48, 1, 1]               0\n",
      "        Identity-331             [-1, 48, 1, 1]               0\n",
      "Conv2dStaticSamePadding-332           [-1, 1152, 1, 1]          56,448\n",
      "        Identity-333           [-1, 1152, 7, 7]               0\n",
      "Conv2dStaticSamePadding-334            [-1, 192, 7, 7]         221,184\n",
      "     BatchNorm2d-335            [-1, 192, 7, 7]             384\n",
      "     MBConvBlock-336            [-1, 192, 7, 7]               0\n",
      "        Identity-337            [-1, 192, 7, 7]               0\n",
      "Conv2dStaticSamePadding-338           [-1, 1152, 7, 7]         221,184\n",
      "     BatchNorm2d-339           [-1, 1152, 7, 7]           2,304\n",
      "MemoryEfficientSwish-340           [-1, 1152, 7, 7]               0\n",
      "       ZeroPad2d-341         [-1, 1152, 11, 11]               0\n",
      "Conv2dStaticSamePadding-342           [-1, 1152, 7, 7]          28,800\n",
      "     BatchNorm2d-343           [-1, 1152, 7, 7]           2,304\n",
      "MemoryEfficientSwish-344           [-1, 1152, 7, 7]               0\n",
      "        Identity-345           [-1, 1152, 1, 1]               0\n",
      "Conv2dStaticSamePadding-346             [-1, 48, 1, 1]          55,344\n",
      "MemoryEfficientSwish-347             [-1, 48, 1, 1]               0\n",
      "        Identity-348             [-1, 48, 1, 1]               0\n",
      "Conv2dStaticSamePadding-349           [-1, 1152, 1, 1]          56,448\n",
      "        Identity-350           [-1, 1152, 7, 7]               0\n",
      "Conv2dStaticSamePadding-351            [-1, 192, 7, 7]         221,184\n",
      "     BatchNorm2d-352            [-1, 192, 7, 7]             384\n",
      "     MBConvBlock-353            [-1, 192, 7, 7]               0\n",
      "        Identity-354            [-1, 192, 7, 7]               0\n",
      "Conv2dStaticSamePadding-355           [-1, 1152, 7, 7]         221,184\n",
      "     BatchNorm2d-356           [-1, 1152, 7, 7]           2,304\n",
      "MemoryEfficientSwish-357           [-1, 1152, 7, 7]               0\n",
      "       ZeroPad2d-358           [-1, 1152, 9, 9]               0\n",
      "Conv2dStaticSamePadding-359           [-1, 1152, 7, 7]          10,368\n",
      "     BatchNorm2d-360           [-1, 1152, 7, 7]           2,304\n",
      "MemoryEfficientSwish-361           [-1, 1152, 7, 7]               0\n",
      "        Identity-362           [-1, 1152, 1, 1]               0\n",
      "Conv2dStaticSamePadding-363             [-1, 48, 1, 1]          55,344\n",
      "MemoryEfficientSwish-364             [-1, 48, 1, 1]               0\n",
      "        Identity-365             [-1, 48, 1, 1]               0\n",
      "Conv2dStaticSamePadding-366           [-1, 1152, 1, 1]          56,448\n",
      "        Identity-367           [-1, 1152, 7, 7]               0\n",
      "Conv2dStaticSamePadding-368            [-1, 320, 7, 7]         368,640\n",
      "     BatchNorm2d-369            [-1, 320, 7, 7]             640\n",
      "     MBConvBlock-370            [-1, 320, 7, 7]               0\n",
      "        Identity-371            [-1, 320, 7, 7]               0\n",
      "Conv2dStaticSamePadding-372           [-1, 1920, 7, 7]         614,400\n",
      "     BatchNorm2d-373           [-1, 1920, 7, 7]           3,840\n",
      "MemoryEfficientSwish-374           [-1, 1920, 7, 7]               0\n",
      "       ZeroPad2d-375           [-1, 1920, 9, 9]               0\n",
      "Conv2dStaticSamePadding-376           [-1, 1920, 7, 7]          17,280\n",
      "     BatchNorm2d-377           [-1, 1920, 7, 7]           3,840\n",
      "MemoryEfficientSwish-378           [-1, 1920, 7, 7]               0\n",
      "        Identity-379           [-1, 1920, 1, 1]               0\n",
      "Conv2dStaticSamePadding-380             [-1, 80, 1, 1]         153,680\n",
      "MemoryEfficientSwish-381             [-1, 80, 1, 1]               0\n",
      "        Identity-382             [-1, 80, 1, 1]               0\n",
      "Conv2dStaticSamePadding-383           [-1, 1920, 1, 1]         155,520\n",
      "        Identity-384           [-1, 1920, 7, 7]               0\n",
      "Conv2dStaticSamePadding-385            [-1, 320, 7, 7]         614,400\n",
      "     BatchNorm2d-386            [-1, 320, 7, 7]             640\n",
      "     MBConvBlock-387            [-1, 320, 7, 7]               0\n",
      "        Identity-388            [-1, 320, 7, 7]               0\n",
      "Conv2dStaticSamePadding-389           [-1, 1280, 7, 7]         409,600\n",
      "     BatchNorm2d-390           [-1, 1280, 7, 7]           2,560\n",
      "MemoryEfficientSwish-391           [-1, 1280, 7, 7]               0\n",
      "AdaptiveAvgPool2d-392           [-1, 1280, 1, 1]               0\n",
      "         Dropout-393                 [-1, 1280]               0\n",
      "          Linear-394                  [-1, 100]         128,100\n",
      "            ReLU-395                  [-1, 100]               0\n",
      "         Dropout-396                  [-1, 100]               0\n",
      "          Linear-397                    [-1, 1]             101\n",
      "    EfficientNet-398                    [-1, 1]               0\n",
      "================================================================\n",
      "Total params: 6,641,385\n",
      "Trainable params: 6,641,385\n",
      "Non-trainable params: 0\n",
      "----------------------------------------------------------------\n",
      "Input size (MB): 0.57\n",
      "Forward/backward pass size (MB): 295.20\n",
      "Params size (MB): 25.33\n",
      "Estimated Total Size (MB): 321.11\n",
      "----------------------------------------------------------------\n"
     ]
    }
   ],
   "source": [
    "# Displaying our model's Summary\n",
    "storm_model.eval()\n",
    "summary(storm_model, input_size=(3, 224, 224))"
   ]
  }
 ],
 "metadata": {
  "kernelspec": {
   "display_name": "base",
   "language": "python",
   "name": "python3"
  },
  "language_info": {
   "codemirror_mode": {
    "name": "ipython",
    "version": 3
   },
   "file_extension": ".py",
   "mimetype": "text/x-python",
   "name": "python",
   "nbconvert_exporter": "python",
   "pygments_lexer": "ipython3",
   "version": "3.8.18"
  }
 },
 "nbformat": 4,
 "nbformat_minor": 2
}
